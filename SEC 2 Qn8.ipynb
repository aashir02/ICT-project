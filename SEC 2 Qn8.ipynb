{
 "cells": [
  {
   "cell_type": "code",
   "execution_count": 31,
   "id": "258ccbb5",
   "metadata": {},
   "outputs": [
    {
     "name": "stdout",
     "output_type": "stream",
     "text": [
      "Enter number = 8\n",
      "The factoruial is  40320\n"
     ]
    }
   ],
   "source": [
    "num=int(input(\"Enter number = \"))\n",
    "def fact(x):\n",
    "    if(x==1):\n",
    "        return 1\n",
    "    else:\n",
    "        return x*fact(x-1)\n",
    "result=fact(num)\n",
    "print(\"The factoruial is \",result)\n"
   ]
  },
  {
   "cell_type": "code",
   "execution_count": null,
   "id": "c97ed007",
   "metadata": {},
   "outputs": [],
   "source": []
  },
  {
   "cell_type": "code",
   "execution_count": null,
   "id": "30167302",
   "metadata": {},
   "outputs": [],
   "source": []
  }
 ],
 "metadata": {
  "kernelspec": {
   "display_name": "Python 3 (ipykernel)",
   "language": "python",
   "name": "python3"
  },
  "language_info": {
   "codemirror_mode": {
    "name": "ipython",
    "version": 3
   },
   "file_extension": ".py",
   "mimetype": "text/x-python",
   "name": "python",
   "nbconvert_exporter": "python",
   "pygments_lexer": "ipython3",
   "version": "3.9.13"
  }
 },
 "nbformat": 4,
 "nbformat_minor": 5
}

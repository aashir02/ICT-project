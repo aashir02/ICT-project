{
 "cells": [
  {
   "cell_type": "code",
   "execution_count": 1,
   "id": "30acc3bb",
   "metadata": {},
   "outputs": [
    {
     "name": "stdout",
     "output_type": "stream",
     "text": [
      "Do you want to know about today [Y/N]:n\n",
      "Exiting\n"
     ]
    }
   ],
   "source": [
    "from datetime import date\n",
    "ch=input(\"Do you want to know about today [Y/N]:\")\n",
    "if(ch.upper()=='Y'):\n",
    "    tdate=date.today()\n",
    "    print(\"Year\",\"Month\",\"Day\",sep='-')\n",
    "    print(tdate)\n",
    "else:\n",
    "    print(\"Exiting\")\n",
    "    exit()\n",
    "    "
   ]
  },
  {
   "cell_type": "code",
   "execution_count": null,
   "id": "8469c3d7",
   "metadata": {},
   "outputs": [],
   "source": []
  },
  {
   "cell_type": "code",
   "execution_count": null,
   "id": "8594b3c7",
   "metadata": {},
   "outputs": [],
   "source": []
  }
 ],
 "metadata": {
  "kernelspec": {
   "display_name": "Python 3 (ipykernel)",
   "language": "python",
   "name": "python3"
  },
  "language_info": {
   "codemirror_mode": {
    "name": "ipython",
    "version": 3
   },
   "file_extension": ".py",
   "mimetype": "text/x-python",
   "name": "python",
   "nbconvert_exporter": "python",
   "pygments_lexer": "ipython3",
   "version": "3.9.13"
  }
 },
 "nbformat": 4,
 "nbformat_minor": 5
}

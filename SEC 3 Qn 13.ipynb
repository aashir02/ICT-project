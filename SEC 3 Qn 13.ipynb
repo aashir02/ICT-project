{
 "cells": [
  {
   "cell_type": "code",
   "execution_count": 1,
   "id": "3926b27b",
   "metadata": {},
   "outputs": [
    {
     "name": "stdout",
     "output_type": "stream",
     "text": [
      "Enter stringabc7rv37t\n",
      "a\n",
      "b\n",
      "c\n",
      "r\n",
      "v\n",
      "t\n"
     ]
    }
   ],
   "source": [
    "string=input(\"Enter string\")\n",
    "l=len(string)\n",
    "c=0\n",
    "while c<len(string):\n",
    "    if string[c].isalpha():\n",
    "        print(string[c])\n",
    "    c+=1"
   ]
  },
  {
   "cell_type": "code",
   "execution_count": null,
   "id": "0b216e78",
   "metadata": {},
   "outputs": [],
   "source": []
  }
 ],
 "metadata": {
  "kernelspec": {
   "display_name": "Python 3 (ipykernel)",
   "language": "python",
   "name": "python3"
  },
  "language_info": {
   "codemirror_mode": {
    "name": "ipython",
    "version": 3
   },
   "file_extension": ".py",
   "mimetype": "text/x-python",
   "name": "python",
   "nbconvert_exporter": "python",
   "pygments_lexer": "ipython3",
   "version": "3.9.13"
  }
 },
 "nbformat": 4,
 "nbformat_minor": 5
}

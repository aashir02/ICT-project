{
 "cells": [
  {
   "cell_type": "code",
   "execution_count": 1,
   "id": "5fd875c1",
   "metadata": {},
   "outputs": [],
   "source": [
    "#input\n",
    "k=['a','b','c','d','e']\n"
   ]
  },
  {
   "cell_type": "code",
   "execution_count": 3,
   "id": "0adea0e9",
   "metadata": {},
   "outputs": [
    {
     "name": "stdout",
     "output_type": "stream",
     "text": [
      "['e', 'd', 'c', 'b', 'a']\n"
     ]
    }
   ],
   "source": [
    "#output\n",
    "print(k[-1:-7:-1])"
   ]
  },
  {
   "cell_type": "code",
   "execution_count": null,
   "id": "873fb48c",
   "metadata": {},
   "outputs": [],
   "source": []
  }
 ],
 "metadata": {
  "kernelspec": {
   "display_name": "Python 3 (ipykernel)",
   "language": "python",
   "name": "python3"
  },
  "language_info": {
   "codemirror_mode": {
    "name": "ipython",
    "version": 3
   },
   "file_extension": ".py",
   "mimetype": "text/x-python",
   "name": "python",
   "nbconvert_exporter": "python",
   "pygments_lexer": "ipython3",
   "version": "3.9.13"
  }
 },
 "nbformat": 4,
 "nbformat_minor": 5
}

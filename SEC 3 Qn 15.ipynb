{
 "cells": [
  {
   "cell_type": "code",
   "execution_count": 2,
   "id": "c4053625",
   "metadata": {},
   "outputs": [
    {
     "name": "stdout",
     "output_type": "stream",
     "text": [
      "1.Celsius to fahrenheit\n",
      "2.Fahrenheit to celsius\n",
      "3.Exit\n",
      "Enter choice2\n",
      "Enter fahrenheit 43\n",
      "43 fahrenheit in celsius  6.111111111111111\n",
      "1.Celsius to fahrenheit\n",
      "2.Fahrenheit to celsius\n",
      "3.Exit\n",
      "Enter choice1\n",
      "Enter celsius56\n",
      "56 celsius in fahrenheit is 132.8\n",
      "1.Celsius to fahrenheit\n",
      "2.Fahrenheit to celsius\n",
      "3.Exit\n",
      "Enter choice3\n",
      "Exiting\n"
     ]
    }
   ],
   "source": [
    "while True:\n",
    "    print(\"1.Celsius to fahrenheit\")\n",
    "    print(\"2.Fahrenheit to celsius\")\n",
    "    print(\"3.Exit\")\n",
    "    ch=int(input(\"Enter choice\"))\n",
    "    if(ch==1):\n",
    "        celsius=int(input(\"Enter celsius\"))\n",
    "        print(celsius,\"celsius in fahrenheit is\",(celsius*1.8)+32)\n",
    "    elif(ch==2):\n",
    "        fahrenheit=int(input(\"Enter fahrenheit \"))\n",
    "        print(fahrenheit,\"fahrenheit in celsius \",(fahrenheit-32)/1.8)\n",
    "    elif(ch==3):\n",
    "        print(\"Exiting\")\n",
    "        break\n",
    "    else:\n",
    "        print(\"Invalid choice\")"
   ]
  },
  {
   "cell_type": "code",
   "execution_count": null,
   "id": "9656e7ff",
   "metadata": {},
   "outputs": [],
   "source": [
    "()"
   ]
  }
 ],
 "metadata": {
  "kernelspec": {
   "display_name": "Python 3 (ipykernel)",
   "language": "python",
   "name": "python3"
  },
  "language_info": {
   "codemirror_mode": {
    "name": "ipython",
    "version": 3
   },
   "file_extension": ".py",
   "mimetype": "text/x-python",
   "name": "python",
   "nbconvert_exporter": "python",
   "pygments_lexer": "ipython3",
   "version": "3.9.13"
  }
 },
 "nbformat": 4,
 "nbformat_minor": 5
}
